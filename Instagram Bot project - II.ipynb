{
 "cells": [
  {
   "cell_type": "code",
   "execution_count": null,
   "id": "e6206e83",
   "metadata": {},
   "outputs": [],
   "source": [
    "# import some required packages\n",
    "pip install clean-text\n",
    "pip install Unidecode"
   ]
  },
  {
   "cell_type": "code",
   "execution_count": 1,
   "id": "c931b71b",
   "metadata": {},
   "outputs": [],
   "source": [
    "#import all the required libraries\n",
    "from selenium.webdriver.edge.service import Service\n",
    "from selenium import webdriver\n",
    "from selenium.webdriver.common.by import By\n",
    "import requests\n",
    "from bs4 import BeautifulSoup\n",
    "import time\n",
    "from selenium.common.exceptions import NoSuchElementException\n",
    "from selenium.webdriver.support.wait import WebDriverWait\n",
    "from selenium.webdriver.support import expected_conditions as EC\n",
    "from selenium.common.exceptions import TimeoutException\n",
    "import datetime\n",
    "import matplotlib.pyplot as plt\n",
    "from cleantext import clean\n",
    "import pandas as pd"
   ]
  },
  {
   "cell_type": "code",
   "execution_count": 48,
   "id": "83a1cb67",
   "metadata": {},
   "outputs": [
    {
     "name": "stderr",
     "output_type": "stream",
     "text": [
      "<ipython-input-48-6aabeeddc7c7>:4: DeprecationWarning: executable_path has been deprecated, please pass in a Service object\n",
      "  driver = webdriver.Edge(executable_path=\"C:/Users/digvijaysingh.singh/Downloads/edgedriver_win64/msedgedriver\")\n"
     ]
    },
    {
     "name": "stdout",
     "output_type": "stream",
     "text": [
      "<selenium.webdriver.edge.webdriver.WebDriver (session=\"b4c83a9a5a810664279365d0fa5b3f3f\")>\n",
      "You are currently on instagram login page\n",
      "You are logged in\n",
      "Clicked on not now for now\n",
      "Clicked on not now for now\n"
     ]
    }
   ],
   "source": [
    "# function to set up the driver\n",
    "def driver_setup_1():\n",
    "    try:\n",
    "        driver = webdriver.Edge(executable_path=\"C:/Users/digvijaysingh.singh/Downloads/edgedriver_win64/msedgedriver\")\n",
    "        time.sleep(5)\n",
    "        print(driver)\n",
    "        #go to instagram login page\n",
    "        driver.get('https://www.instagram.com')\n",
    "        time.sleep(5)\n",
    "    except Error as e:\n",
    "        print(\"Eror while trying to open instagram\")\n",
    "    finally:\n",
    "        print(\"You are currently on instagram login page\")\n",
    "        return driver\n",
    "\n",
    "def login(driver,username,password):\n",
    "    try:\n",
    "        username_element = driver.find_element(By.NAME,'username')\n",
    "        username_element.send_keys(username)\n",
    "        password_element = driver.find_element(By.NAME,'password')\n",
    "        password_element.send_keys(password)\n",
    "        time.sleep(4)\n",
    "        password_element.submit()\n",
    "        time.sleep(5)\n",
    "        print(\"You are logged in\")\n",
    "    except NoSuchElementException:\n",
    "        print(\"Could not logged in\")\n",
    "\n",
    "def popup_window():\n",
    "    # if a popup window comes up aking to save your login info then this function is used\n",
    "    try:\n",
    "        pop_up_window = WebDriverWait(\n",
    "        driver, 20).until(EC.presence_of_element_located(\n",
    "            (By.XPATH, \"/html/body/div[1]/div/div/div/div[1]/div/div/div/div[1]/section/main/div/div\")))\n",
    "        # click on not now button\n",
    "        driver.find_element(By.XPATH,'/html/body/div[1]/div/div/div/div[1]/div/div/div/div[1]/section/main/div/div/div/div/button').click()\n",
    "        print(\"Clicked on not now for now\")\n",
    "\n",
    "        # # if a popup window comes up aking to turn on notifications then this function is used\n",
    "        try:\n",
    "            pop_up_window_notification = WebDriverWait(\n",
    "            driver, 20).until(EC.presence_of_element_located(\n",
    "                (By.XPATH, \"/html/body/div[1]/div/div/div/div[2]/div/div/div[1]/div/div[2]/div/div/div/div/div[2]/div/div\")))\n",
    "            # click on not now button\n",
    "            driver.find_element(By.XPATH,'/html/body/div[1]/div/div/div/div[2]/div/div/div[1]/div/div[2]/div/div/div/div/div[2]/div/div/div[3]/button[2]').click()\n",
    "            print(\"Clicked on not now for now\")\n",
    "\n",
    "        except TimeoutException:\n",
    "            print(\"No window aasking to turn of notification\")\n",
    "\n",
    "    except TimeoutException:\n",
    "        print(\"No popup window asking to save your login info\")\n",
    "        \n",
    "driver = driver_setup_1()\n",
    "login(driver,'SAMPLE_USERNAME','SAMPLE_PASSWORD')\n",
    "# calling popup_window function tocheck for any popup window\n",
    "popup_window()"
   ]
  },
  {
   "cell_type": "markdown",
   "id": "752e68b7",
   "metadata": {},
   "source": [
    "## Question no 1\n",
    "to run the function for 1st question first you need to run first and 2nd cell to logged in into instagram"
   ]
  },
  {
   "cell_type": "code",
   "execution_count": 265,
   "id": "aa515c78",
   "metadata": {},
   "outputs": [
    {
     "name": "stdout",
     "output_type": "stream",
     "text": [
      "-------------------------The top 5 handles which have the highest number of followers are:----------------------\n",
      "dilsefoodie 1048337\n",
      "foodporn 1025413\n",
      "foodtalkindia 308776\n",
      "delhi_streets_food 40306\n",
      "lucknowi.safarkhana 26243\n",
      "\n",
      "------------------------No of posts made in last 3 days are:--------------------------------------\n",
      "dilsefoodie 5\n",
      "foodporn 4\n",
      "foodtalkindia 5\n",
      "delhi_streets_food 4\n",
      "lucknowi.safarkhana 2\n"
     ]
    },
    {
     "data": {
      "image/png": "[encoded data removed]",
      "text/plain": [
       "<Figure size 432x288 with 1 Axes>"
      ]
     },
     "metadata": {
      "needs_background": "light"
     },
     "output_type": "display_data"
    }
   ],
   "source": [
    "# we need to come tohomepage or clear\n",
    "def clear_search_bar():\n",
    "    driver.back()\n",
    "    time.sleep(2)\n",
    "    #clear the search bar\n",
    "    driver.find_element(By.CLASS_NAME,'_aaw8').click()\n",
    "    #WebDriverWait(driver, 20).until(EC.presence_of_element_located((By.CLASS_NAME,'_aaw8'))).click()\n",
    "    #ckick the closs div so that search bar return to it's initial position\n",
    "    try:\n",
    "        cross_div = WebDriverWait(\n",
    "            driver, 3).until(EC.presence_of_element_located(\n",
    "                (By.XPATH, '//div[contains(@class,\"_9-lv\")]')))\n",
    "        driver.find_element(By.XPATH,'//div[contains(@class,\"_9-lv\")]').click()\n",
    "    except TimeoutException:\n",
    "        print(\"search bar is clear\")\n",
    "    finally:\n",
    "        time.sleep(1)\n",
    "        \n",
    "# function to count no of posts\n",
    "def count_of_posts(name):\n",
    "    search_bar = driver.find_element(By.CLASS_NAME,'_aauy')\n",
    "    # send keys to search bar \n",
    "    search_bar.send_keys(name)\n",
    "    #we are looking for the first option in search list so we will find first element with class '_abm4' and click on it\n",
    "    WebDriverWait(driver, 20).until(EC.presence_of_element_located((By.CLASS_NAME,'_abm4'))).click()\n",
    "    # now first we will check if tere are pinned posts from previous dates if they are there then we need to go to current posts\n",
    "    try:\n",
    "        WebDriverWait(driver, 20).until(EC.presence_of_element_located((By.CLASS_NAME,'_aatp')))\n",
    "        time.sleep(3)\n",
    "        pinned = driver.find_elements(By.CLASS_NAME,'_aatp')\n",
    "        count = 0\n",
    "        # we will check for all pinned posts\n",
    "        for i in pinned:\n",
    "            if i.find_element(By.CLASS_NAME,'_ab6-').get_attribute('aria-label') != 'Pinned post icon':\n",
    "                break\n",
    "            else:\n",
    "                count+=1\n",
    "        # as soon as pinned posts are over we will open the post and start to see the date\n",
    "        driver.find_elements(By.CLASS_NAME,'_aagw')[count].click()\n",
    "    except NoSuchElementException:\n",
    "        # if there are no pinned posts then we will directly click on first post and start counting\n",
    "        first_pic = WebDriverWait(driver, 20).until(EC.presence_of_element_located((By.CLASS_NAME,'_aagw')))\n",
    "        first_pic.click()\n",
    "    # create a counter for post count\n",
    "    count = 0\n",
    "    while True:\n",
    "        # first check if date of post is available then fetch the date\n",
    "        date = WebDriverWait(driver, 20).until(EC.presence_of_element_located((By.CLASS_NAME,'_aaqe'))).get_attribute('title')\n",
    "        # replace ',' in date and split on basis of space and take the 2ndelement of te list acc to our requirement and convert it into int\n",
    "        date = int(date.replace(',','').split(' ')[1])\n",
    "        present_date = datetime.datetime.now().day\n",
    "        #  check if its not older than 3 days then increment the count else break the loop\n",
    "        if (present_date - date) <= 3:\n",
    "            count+=1\n",
    "        else:\n",
    "            break\n",
    "            \n",
    "        #click on the next btn to check next post\n",
    "        try:\n",
    "            next_btn = driver.find_element(By.XPATH,'/html/body/div[1]/div/div/div/div[2]/div/div/div[1]/div/div[3]/div/div/div/div/div[1]/div/div/div[2]/button/div')\n",
    "            next_btn.click()\n",
    "        except NoSuchElementException:\n",
    "            try:\n",
    "                next_btn = driver.find_element(By.XPATH,'/html/body/div[1]/div/div/div/div[2]/div/div/div[1]/div/div[3]/div/div/div/div/div[1]/div/div/div/button/div')\n",
    "                next_btn.click()\n",
    "            except NoSuchElementException:\n",
    "                # if there is no next btn then it myust be the last post\n",
    "                print(\"we have covered all the posts\")\n",
    "    #clear search bar for next account\n",
    "    clear_search_bar()\n",
    "    return count\n",
    "\n",
    "#function to see totalno of followers\n",
    "def total_followers(handle):\n",
    "    search_bar = driver.find_element(By.CLASS_NAME,'_aauy')\n",
    "    # send keys to search bar \n",
    "    search_bar.send_keys(handle)\n",
    "    #we are looking for the first option in search list so we will find first element with class '_abm4' and click on it\n",
    "    WebDriverWait(driver, 20).until(EC.presence_of_element_located((By.CLASS_NAME,'_abm4'))).click()\n",
    "    \n",
    "    #now we will check for the no of followers\n",
    "    WebDriverWait(driver, 20).until(EC.presence_of_element_located(\n",
    "        (By.XPATH, \"/html/body/div[1]/div/div/div/div[1]/div/div/div/div[1]/section/main/div/header/section/ul/li[2]/a/div\")))\n",
    "    followers = driver.find_elements(By.CLASS_NAME,'_ac2a')[1].get_attribute('title')\n",
    "    \n",
    "    # clear the searchbar\n",
    "    clear_search_bar()\n",
    "    \n",
    "    # return the no of followers\n",
    "    return followers\n",
    "\n",
    "#execute \n",
    "if __name__ == \"__main__\":\n",
    "    # the list of handles from previous project obtained on searching food is as follows\n",
    "    list_of_handles = ['delhi_streets_food', 'food__diaries____', 'dilsefoodie', 'streetfood_walker', 'noidafooddiaries', 'lucknow_foodie',\n",
    "                       'foodtalkindia', 'ghar.kaa.khana', 'foodporn', 'lucknowi.safarkhana']\n",
    "    followers_dict = {}\n",
    "    for handle in list_of_handles:\n",
    "        no_of_followers = total_followers(handle)\n",
    "        if handle not in followers_dict.keys():\n",
    "            no_of_followers = no_of_followers.replace(',','')\n",
    "            followers_dict[handle] = int(no_of_followers)\n",
    "    #print(followers_dict)\n",
    "    # now we will sort the dict in reverse order to get top handles first\n",
    "    followers_dict = {key: val for key, val in sorted(followers_dict.items(), key = lambda ele: ele[1],reverse=True)}\n",
    "    # we just neet top 5 so \n",
    "    followers_dict = dict(list(followers_dict.items())[0:5])\n",
    "    print(\"-------------------------The top 5 handles which have the highest number of followers are:----------------------\")\n",
    "    for key in followers_dict.keys():\n",
    "        print(key,followers_dict[key])\n",
    "    print()\n",
    "        \n",
    "    # the list of top 5 handles names\n",
    "    top_five_list = list(followers_dict.keys())\n",
    "    #now we will try to find their no of posts in the last 3 days\n",
    "    post_count = {}\n",
    "    #apply loop on all names and it will return the count of post\n",
    "    for i in top_five_list:\n",
    "        # we called a function to count posts\n",
    "        count = count_of_posts(i)\n",
    "        #stored the values in a dict\n",
    "        post_count[i] = count\n",
    "        \n",
    "    #print the dictionary\n",
    "    print(\"------------------------No of posts made in last 3 days are:--------------------------------------\")\n",
    "    for key in post_count.keys():\n",
    "        print(key,post_count[key])\n",
    "        \n",
    "    # now we will plot a bar graph\n",
    "    keys = list(post_count.keys())\n",
    "    values = list(post_count.values())\n",
    "    plt.bar(keys,values)\n",
    "    plt.xticks(rotation=45)\n",
    "    plt.xlabel(\"Instagram handle\")\n",
    "    plt.ylabel(\"Count of posts in last 3 days\")\n",
    "    plt.show()"
   ]
  },
  {
   "cell_type": "code",
   "execution_count": null,
   "id": "b5374b67",
   "metadata": {},
   "outputs": [],
   "source": [
    "# quit the driver when the task is done\n",
    "driver.quit()"
   ]
  },
  {
   "cell_type": "markdown",
   "id": "607d806b",
   "metadata": {},
   "source": [
    "## Question no 2\n",
    "to run the function for 2nd question first you need to run first and 2nd cell to logged in into instagram"
   ]
  },
  {
   "cell_type": "code",
   "execution_count": 121,
   "id": "ab46432a",
   "metadata": {},
   "outputs": [
    {
     "name": "stdout",
     "output_type": "stream",
     "text": [
      "['dilsefoodie', 'foodporn', 'foodtalkindia', 'delhi_streets_food', 'lucknowi.safarkhana']\n"
     ]
    }
   ],
   "source": [
    "# we need top five handles name list from previous question\n",
    "print(top_five_list)"
   ]
  },
  {
   "cell_type": "code",
   "execution_count": 209,
   "id": "c050202b",
   "metadata": {},
   "outputs": [
    {
     "name": "stdout",
     "output_type": "stream",
     "text": [
      "--------------------------The content of the first 10 posts of each handle----------------------------\n",
      "bejad ki roti with laal maas dilsefoodie dilsecouple food laalmaas this diwali, kuch naya ho jayenew beginnings ke liye new meetha toh hona chahiye the festive edition by kwalitywalls gulab jamun ice cream dessert is perfect to start the celebration my wife loved the real gulab jamun pieces inside this ice cream aap log bhi try karo order now on zomato or get it from any kwality wall's freezer near you tyohaarwahimithaasnayi ad kwalitywalls diwalimeetha diwalidesserts dilsefoodie kwalitywallsgulabjamun diwali2022 gulabjamunicecream happydiwali and here we are 3d 3 dua's birthday papa, my and sukirti dilsecouple at tucasakitchenandbar , rajouri garden for family dinner and it was really good loved it dilsefoodie dilsecouple food birthday enjoying garma garam aloo bread pakoda dilsefoodie dilsecouple breadpakoda and thats chicken moussaka from turktarziofficial , defence colony it's available on swiggy, zomato and magicpin dilsefoodie dilsecouple turkishfood turktarzi when in kolkata kolkata roll is must try dilsefoodie dilsecouple roll kolkataroll bassssss yehi ek biryani thi jisne dil jeeta mera arsalan ki biryani at kolkata dilsefoodie dilsecouple food biryani aaj na ladi marjaani aaj mera karwa chauth hai dilsecouple dilsefoodie dilsecouple karwachauth karwachauth special love infinity dilsefoodie dilsecouple karwachauth karwa chauth special sargi so i made this atte wale aloo and sukirti made sewaiya dono ka fast hai but sukirti will eat something after pooja as she is expecting to proper fast nahi rakh sakti dilsefoodie dilsecouple karwachauth dilsebaby the diamond teraluna to celebrate therock's one year anniversary since he launched teremana, we worked with gloss and theclearicecompany to make his very own special drink the diamond tereluna which features an ice diamond here are the ingredients 2 oz teremana reposado3/4 oz fresh grapefruit juice3/4 oz fresh lime juice 3/4 oz rosemaryinfused agave syrup 4 drops mole bittersgarnished with smoked maldon sea salt theclearicecompany \"ride the wave\" by laurenhashianofficial, naztokio, and iamnataliemartinez _peike rustys_bar_and_grill amospro 100% chocolate dumbbells for therock's birthday happy birthday to therock with this spectacular set of dumbbells made with 100% chocolate by the amazingly talented amauryguichon it took amaury 20 hours to make this chocolate masterpiece from start to finish we worked in secret with amaury and laurenhashianofficial to make this a surprise for the big man's birthday, and it couldn't have worked out any better here is how they were made yup, they are completely ediblehow's this for a cheat meal dj what do you think of our new video is it foodporn enough for you itsonlyfood getyourmindoutofthegutter is this pork belly crackling sound the best thing you've ever heard won't you take me to chunkytownau rainbow toastie, where have you been all our lives rainbowtoastie_melbourne some yummy yummy at fuumifuumi ton katsu sando & fried ebi and egg salad sando to be exact we're in the kitchen of little hong kong house for some fried chicken goodness\n",
      "-----------------------------------------List containing All hastags used---------------------------------------------------\n",
      "['bejad', 'ki', 'roti', 'with', 'laal', 'maas', 'dilsefoodie', 'dilsecouple', 'food', 'laalmaas', 'this', 'diwali,', 'kuch', 'naya', 'ho', 'jayenew', 'beginnings', 'ke', 'liye', 'new', 'meetha', 'toh', 'hona', 'chahiye', 'the', 'festive', 'edition', 'by', 'kwalitywalls', 'gulab', 'jamun', 'ice', 'cream', 'dessert', 'is', 'perfect', 'to', 'start', 'the', 'celebration', 'my', 'wife', 'loved', 'the', 'real', 'gulab', 'jamun', 'pieces', 'inside', 'this', 'ice', 'cream', 'aap', 'log', 'bhi', 'try', 'karo', 'order', 'now', 'on', 'zomato', 'or', 'get', 'it', 'from', 'any', 'kwality', \"wall's\", 'freezer', 'near', 'you', 'tyohaarwahimithaasnayi', 'ad', 'kwalitywalls', 'diwalimeetha', 'diwalidesserts', 'dilsefoodie', 'kwalitywallsgulabjamun', 'diwali2022', 'gulabjamunicecream', 'happydiwali', 'and', 'here', 'we', 'are', '3d', '3', \"dua's\", 'birthday', 'papa,', 'my', 'and', 'sukirti', 'dilsecouple', 'at', 'tucasakitchenandbar', ',', 'rajouri', 'garden', 'for', 'family', 'dinner', 'and', 'it', 'was', 'really', 'good', 'loved', 'it', 'dilsefoodie', 'dilsecouple', 'food', 'birthday', 'enjoying', 'garma', 'garam', 'aloo', 'bread', 'pakoda', 'dilsefoodie', 'dilsecouple', 'breadpakoda', 'and', 'thats', 'chicken', 'moussaka', 'from', 'turktarziofficial', ',', 'defence', 'colony', \"it's\", 'available', 'on', 'swiggy,', 'zomato', 'and', 'magicpin', 'dilsefoodie', 'dilsecouple', 'turkishfood', 'turktarzi', 'when', 'in', 'kolkata', 'kolkata', 'roll', 'is', 'must', 'try', 'dilsefoodie', 'dilsecouple', 'roll', 'kolkataroll', 'bassssss', 'yehi', 'ek', 'biryani', 'thi', 'jisne', 'dil', 'jeeta', 'mera', 'arsalan', 'ki', 'biryani', 'at', 'kolkata', 'dilsefoodie', 'dilsecouple', 'food', 'biryani', 'aaj', 'na', 'ladi', 'marjaani', 'aaj', 'mera', 'karwa', 'chauth', 'hai', 'dilsecouple', 'dilsefoodie', 'dilsecouple', 'karwachauth', 'karwachauth', 'special', 'love', 'infinity', 'dilsefoodie', 'dilsecouple', 'karwachauth', 'karwa', 'chauth', 'special', 'sargi', 'so', 'i', 'made', 'this', 'atte', 'wale', 'aloo', 'and', 'sukirti', 'made', 'sewaiya', 'dono', 'ka', 'fast', 'hai', 'but', 'sukirti', 'will', 'eat', 'something', 'after', 'pooja', 'as', 'she', 'is', 'expecting', 'to', 'proper', 'fast', 'nahi', 'rakh', 'sakti', 'dilsefoodie', 'dilsecouple', 'karwachauth', 'dilsebaby', 'the', 'diamond', 'teraluna', 'to', 'celebrate', \"therock's\", 'one', 'year', 'anniversary', 'since', 'he', 'launched', 'teremana,', 'we', 'worked', 'with', 'gloss', 'and', 'theclearicecompany', 'to', 'make', 'his', 'very', 'own', 'special', 'drink', 'the', 'diamond', 'tereluna', 'which', 'features', 'an', 'ice', 'diamond', 'here', 'are', 'the', 'ingredients', '2', 'oz', 'teremana', 'reposado3/4', 'oz', 'fresh', 'grapefruit', 'juice3/4', 'oz', 'fresh', 'lime', 'juice', '3/4', 'oz', 'rosemaryinfused', 'agave', 'syrup', '4', 'drops', 'mole', 'bittersgarnished', 'with', 'smoked', 'maldon', 'sea', 'salt', 'theclearicecompany', '\"ride', 'the', 'wave\"', 'by', 'laurenhashianofficial,', 'naztokio,', 'and', 'iamnataliemartinez', '_peike', 'rustys_bar_and_grill', 'amospro', '100%', 'chocolate', 'dumbbells', 'for', \"therock's\", 'birthday', 'happy', 'birthday', 'to', 'therock', 'with', 'this', 'spectacular', 'set', 'of', 'dumbbells', 'made', 'with', '100%', 'chocolate', 'by', 'the', 'amazingly', 'talented', 'amauryguichon', 'it', 'took', 'amaury', '20', 'hours', 'to', 'make', 'this', 'chocolate', 'masterpiece', 'from', 'start', 'to', 'finish', 'we', 'worked', 'in', 'secret', 'with', 'amaury', 'and', 'laurenhashianofficial', 'to', 'make', 'this', 'a', 'surprise', 'for', 'the', 'big', \"man's\", 'birthday,', 'and', 'it', \"couldn't\", 'have', 'worked', 'out', 'any', 'better', 'here', 'is', 'how', 'they', 'were', 'made', 'yup,', 'they', 'are', 'completely', \"ediblehow's\", 'this', 'for', 'a', 'cheat', 'meal', 'dj', 'what', 'do', 'you', 'think', 'of', 'our', 'new', 'video', 'is', 'it', 'foodporn', 'enough', 'for', 'you', 'itsonlyfood', 'getyourmindoutofthegutter', 'is', 'this', 'pork', 'belly', 'crackling', 'sound', 'the', 'best', 'thing', \"you've\", 'ever', 'heard', \"won't\", 'you', 'take', 'me', 'to', 'chunkytownau', 'rainbow', 'toastie,', 'where', 'have', 'you', 'been', 'all', 'our', 'lives', 'rainbowtoastie_melbourne', 'some', 'yummy', 'yummy', 'at', 'fuumifuumi', 'ton', 'katsu', 'sando', '&', 'fried', 'ebi', 'and', 'egg', 'salad', 'sando', 'to', 'be', 'exact', \"we're\", 'in', 'the', 'kitchen', 'of', 'little', 'hong', 'kong', 'house', 'for', 'some', 'fried', 'chicken', 'goodness']\n",
      "CSV created\n",
      "\n",
      "------------------------------Top five hastags and their counts ----------------------------------------\n",
      "food 18\n",
      "foodblogger 16\n",
      "foodie 14\n",
      "foodiesofindia 11\n",
      "yummy 11\n",
      "\n"
     ]
    },
    {
     "data": {
      "image/png": "[encoded data removed]",
      "text/plain": [
       "<Figure size 432x288 with 1 Axes>"
      ]
     },
     "metadata": {},
     "output_type": "display_data"
    }
   ],
   "source": [
    "# function to clear search bar\n",
    "def clear_searchbar():\n",
    "    # clear search bar  \n",
    "    driver.back()\n",
    "    time.sleep(2)\n",
    "    #clear the search bar\n",
    "    driver.find_element(By.CLASS_NAME,'_aaw8').click()\n",
    "    #WebDriverWait(driver, 20).until(EC.presence_of_element_located((By.CLASS_NAME,'_aaw8'))).click()\n",
    "    #ckick the closs div so that search bar return to it's initial position\n",
    "    try:\n",
    "        cross_div = WebDriverWait(\n",
    "            driver, 3).until(EC.presence_of_element_located(\n",
    "                (By.XPATH, '//div[contains(@class,\"_9-lv\")]')))\n",
    "        driver.find_element(By.XPATH,'//div[contains(@class,\"_9-lv\")]').click()\n",
    "    except TimeoutException:\n",
    "        print(\"search bar is clear\")\n",
    "    finally:\n",
    "        time.sleep(2)\n",
    "        \n",
    "# function to fetch top 5 hastags and plot a pie chart\n",
    "def top_five_hastags_and_pie_plot(all_hastags):\n",
    "    # list of all hastags\n",
    "    list_of_hastags = all_hastags.split(\"#\")\n",
    "    # we will skip te first element as it contains nothing\n",
    "    list_of_hastags = list_of_hastags[1:]\n",
    "    \n",
    "    # now find top 5 hastags we need to know the frequency of hastags we will use pandas dataframe\n",
    "    df1 = pd.Series(list_of_hastags).value_counts().sort_index().reset_index().reset_index(drop=True)\n",
    "    df1.columns = ['Hastag', 'Frequency']\n",
    "    #print(df1)\n",
    "    # now we need to find top 5 hastags so we will sort the df in descendin order and pick top 5 values\n",
    "    df2 = df1.sort_values(by='Frequency',ascending=False)[:5].reset_index(drop=True)\n",
    "    # now to print the values we have\n",
    "    print(\"------------------------------Top five hastags and their counts ----------------------------------------\")\n",
    "    hastags=[]\n",
    "    frequencies=[]\n",
    "    for i in df2.values:\n",
    "        print(i[0],i[1])\n",
    "        hastags.append(i[0])\n",
    "        frequencies.append(i[1])\n",
    "    print()\n",
    "    # now plot the pie chart\n",
    "    plt.pie(frequencies,labels=hastags)\n",
    "    plt.show()\n",
    "    \n",
    "\n",
    "# fetch all hastags function\n",
    "def scrape_hastags(top_five_list):\n",
    "    all_hastags = ''\n",
    "    for name in top_five_list:\n",
    "        search_bar = driver.find_element(By.CLASS_NAME,'_aauy')\n",
    "        # send keys to search bar \n",
    "        search_bar.send_keys(name)\n",
    "        #we are looking for the first option in search list so we will find first element with class '_abm4' and click on it\n",
    "        WebDriverWait(driver, 20).until(EC.presence_of_element_located((By.CLASS_NAME,'_abm4'))).click()\n",
    "        # let the page of search result load\n",
    "        time.sleep(4)\n",
    "        #click on first pic\n",
    "        WebDriverWait(driver, 20).until(EC.presence_of_element_located((By.CLASS_NAME,'_aagw'))).click()\n",
    "        count = 0\n",
    "        handle_hastags = ''\n",
    "        while count < 10:\n",
    "            local_hastags = ''\n",
    "            WebDriverWait(driver, 20).until(EC.presence_of_element_located((By.CLASS_NAME,'_aa06')))\n",
    "            data = BeautifulSoup(driver.page_source)\n",
    "            l = data.find(class_='_aacl _aaco _aacu _aacx _aad7 _aade').find_all('a')\n",
    "            for i in l:\n",
    "                a=i.string\n",
    "                if a[0] == '#':\n",
    "                    local_hastags = local_hastags + a\n",
    "\n",
    "            try:\n",
    "                next_btn = driver.find_element(By.XPATH,'/html/body/div[1]/div/div/div/div[2]/div/div/div[1]/div/div[3]/div/div/div/div/div[1]/div/div/div[2]/button/div')\n",
    "                next_btn.click()\n",
    "            except NoSuchElementException:\n",
    "                try:\n",
    "                    next_btn = driver.find_element(By.XPATH,'/html/body/div[1]/div/div/div/div[2]/div/div/div[1]/div/div[3]/div/div/div/div/div[1]/div/div/div/button/div')\n",
    "                    next_btn.click()\n",
    "                except NoSuchElementException:\n",
    "                    # if there is no next btn then it myust be the last post\n",
    "                    print(\"we have covered all the posts\")\n",
    "            handle_hastags = handle_hastags + local_hastags\n",
    "            count+=1\n",
    "        all_hastags = all_hastags + handle_hastags\n",
    "        # call clear_searchbar function\n",
    "        clear_searchbar()\n",
    "    return all_hastags\n",
    "    \n",
    "\n",
    "# function to create csv\n",
    "def create_csv(content):\n",
    "    # clean the string\n",
    "    content = content.replace('(','')\n",
    "    content = content.replace(')','')\n",
    "    content = content.replace(':','')\n",
    "    content = content.replace('-','')\n",
    "    # convert to list\n",
    "    list_of_words = content.split(\" \")\n",
    "    # print the list\n",
    "    print(\"-----------------------------------------List containing All hastags used---------------------------------------------------\")\n",
    "    print(list_of_words)\n",
    "    \n",
    "    # now using pandas we will try to find frequency of each word\n",
    "    df = pd.Series(list_of_words).value_counts().sort_index().reset_index().reset_index(drop=True)\n",
    "    # declare the columns name\n",
    "    df.columns = ['Word', 'Frequency']\n",
    "    # remove the unwanted word\n",
    "    df = df[df.Word!='']\n",
    "    # now convert to csv\n",
    "    df.to_csv(r'C:/Users/digvijaysingh.singh/Desktop/Coding Ninjas/frequency.csv', index=False)\n",
    "    print(\"CSV created\")\n",
    "    print()\n",
    "\n",
    "# function to scrape content\n",
    "def scrape_content(top_five_list):\n",
    "    grand_str = ''\n",
    "    all_hastags = ''\n",
    "    for name in top_five_list:\n",
    "        search_bar = driver.find_element(By.CLASS_NAME,'_aauy')\n",
    "        # send keys to search bar \n",
    "        search_bar.send_keys(name)\n",
    "        #we are looking for the first option in search list so we will find first element with class '_abm4' and click on it\n",
    "        WebDriverWait(driver, 20).until(EC.presence_of_element_located((By.CLASS_NAME,'_abm4'))).click()\n",
    "        # let the page of search result load\n",
    "        time.sleep(4)\n",
    "        #click on first pic\n",
    "        WebDriverWait(driver, 20).until(EC.presence_of_element_located((By.CLASS_NAME,'_aagw'))).click()\n",
    "        count = 0\n",
    "        final_str = ''\n",
    "        while count < 10:\n",
    "            caption = ''\n",
    "            text = ''\n",
    "            hastags = ''\n",
    "            WebDriverWait(driver, 20).until(EC.presence_of_element_located((By.CLASS_NAME,'_aa06')))\n",
    "            data = BeautifulSoup(driver.page_source)\n",
    "            text_data = data.find(class_='_aacl _aaco _aacu _aacx _aad7 _aade').text\n",
    "            if '#' in text_data:\n",
    "                text = text_data.split('#',1)\n",
    "                caption = text[0]\n",
    "                hastags = text[1].split('#')\n",
    "                for h in hastags:\n",
    "                    caption = caption + \" \" + h.strip()\n",
    "            else:\n",
    "                caption = text_data\n",
    "                \n",
    "            time.sleep(1)\n",
    "\n",
    "            try:\n",
    "                next_btn = driver.find_element(By.XPATH,'/html/body/div[1]/div/div/div/div[2]/div/div/div[1]/div/div[3]/div/div/div/div/div[1]/div/div/div[2]/button/div')\n",
    "                next_btn.click()\n",
    "            except NoSuchElementException:\n",
    "                try:\n",
    "                    next_btn = driver.find_element(By.XPATH,'/html/body/div[1]/div/div/div/div[2]/div/div/div[1]/div/div[3]/div/div/div/div/div[1]/div/div/div/button/div')\n",
    "                    next_btn.click()\n",
    "                except NoSuchElementException:\n",
    "                    # if there is no next btn then it myust be the last post\n",
    "                    print(\"we have covered all the posts\")\n",
    "            final_str = final_str + caption + ' '\n",
    "            count+=1\n",
    "        grand_str = grand_str + final_str + ' '\n",
    "        # call clear_searchbar function\n",
    "        clear_searchbar()\n",
    "    # we also needed to remove some unwanted content from the string\n",
    "    grand_str = grand_str.replace(\".\",'')\n",
    "    grand_str = grand_str.replace(\"@\",'')\n",
    "    grand_str = grand_str.replace('!','')\n",
    "    grand_str = grand_str.replace('?','')\n",
    "    grand_str = grand_str.replace('  ','')\n",
    "    grand_str = grand_str.replace(\"  \",' ')\n",
    "    grand_str = grand_str.replace(\"  \",' ')\n",
    "    #now remove the emojis also from the string\n",
    "    grand_str = clean(content, no_emoji=True)\n",
    "    \n",
    "    # return the string\n",
    "    return grand_str\n",
    "    \n",
    "#execute \n",
    "if __name__ == \"__main__\":\n",
    "    # we need to scrape the content and hastags\n",
    "    content = scrape_content(top_five_list)\n",
    "    print(\"--------------------------The content of the first 10 posts of each handle----------------------------\")\n",
    "    print(content)\n",
    "    # call the function to create csv\n",
    "    create_csv(content)\n",
    "    \n",
    "    # now we want to fetch all the hastags\n",
    "    all_hastags = scrape_hastags(top_five_list)\n",
    "    \n",
    "    # to find top 5 hastags\n",
    "    top_hastags = top_five_hastags_and_pie_plot(all_hastags)\n",
    "    \n",
    "    "
   ]
  },
  {
   "cell_type": "code",
   "execution_count": null,
   "id": "dcbf5ffc",
   "metadata": {},
   "outputs": [],
   "source": [
    "# quit the driver when the task is done\n",
    "driver.quit()"
   ]
  },
  {
   "cell_type": "markdown",
   "id": "86f3d514",
   "metadata": {},
   "source": [
    "## Question no 3\n",
    "to run the function for 2nd question first you need to run first and 2nd cell to logged in into instagram"
   ]
  },
  {
   "cell_type": "code",
   "execution_count": 216,
   "id": "5b70791a",
   "metadata": {},
   "outputs": [
    {
     "data": {
      "text/plain": [
       "['dilsefoodie',\n",
       " 'foodporn',\n",
       " 'foodtalkindia',\n",
       " 'delhi_streets_food',\n",
       " 'lucknowi.safarkhana']"
      ]
     },
     "execution_count": 216,
     "metadata": {},
     "output_type": "execute_result"
    }
   ],
   "source": [
    "# we will need top_five_list from previous question in this question\n",
    "top_five_list"
   ]
  },
  {
   "cell_type": "code",
   "execution_count": 237,
   "id": "e724b99a",
   "metadata": {},
   "outputs": [
    {
     "data": {
      "text/plain": [
       "{'dilsefoodie': 1048277,\n",
       " 'foodporn': 1025413,\n",
       " 'foodtalkindia': 308770,\n",
       " 'delhi_streets_food': 40307,\n",
       " 'lucknowi.safarkhana': 26225}"
      ]
     },
     "execution_count": 237,
     "metadata": {},
     "output_type": "execute_result"
    }
   ],
   "source": [
    "# we will be using followers_dict from question no 1 in this question\n",
    "followers_dict"
   ]
  },
  {
   "cell_type": "code",
   "execution_count": 262,
   "id": "3963574c",
   "metadata": {},
   "outputs": [
    {
     "name": "stdout",
     "output_type": "stream",
     "text": [
      "----------------------------------List containg the likes of handles respecively----------------------------\n",
      "[114218, 21060, 2514, 8306, 19432]\n",
      "----------------------followers:likes ratio-----------------------------\n",
      "dilsefoodie 91.78\n",
      "foodporn 486.9\n",
      "foodtalkindia 1228.2\n",
      "delhi_streets_food 48.53\n",
      "lucknowi.safarkhana 13.5\n"
     ]
    },
    {
     "data": {
      "image/png": "[encoded data removed]",
      "text/plain": [
       "<Figure size 432x288 with 1 Axes>"
      ]
     },
     "metadata": {
      "needs_background": "light"
     },
     "output_type": "display_data"
    }
   ],
   "source": [
    "# function to clear search bar\n",
    "def clear_search__bar():\n",
    "    # clear search bar  \n",
    "    driver.back()\n",
    "    time.sleep(2)\n",
    "    #clear the search bar\n",
    "    driver.find_element(By.CLASS_NAME,'_aaw8').click()\n",
    "    #WebDriverWait(driver, 20).until(EC.presence_of_element_located((By.CLASS_NAME,'_aaw8'))).click()\n",
    "    #ckick the closs div so that search bar return to it's initial position\n",
    "    try:\n",
    "        cross_div = WebDriverWait(\n",
    "            driver, 3).until(EC.presence_of_element_located(\n",
    "                (By.XPATH, '//div[contains(@class,\"_9-lv\")]')))\n",
    "        driver.find_element(By.XPATH,'//div[contains(@class,\"_9-lv\")]').click()\n",
    "    except TimeoutException:\n",
    "        print(\"search bar is clear\")\n",
    "    finally:\n",
    "        time.sleep(2)\n",
    "        \n",
    "# this fuction creates the list that contains the count of likes for each handle        \n",
    "def count_likes():\n",
    "    likes_list = []\n",
    "    for name in top_five_list:\n",
    "        search_bar = driver.find_element(By.CLASS_NAME,'_aauy')\n",
    "        # send keys to search bar \n",
    "        search_bar.send_keys(name)\n",
    "        #we are looking for the first option in search list so we will find first element with class '_abm4' and click on it\n",
    "        WebDriverWait(driver, 20).until(EC.presence_of_element_located((By.CLASS_NAME,'_abm4'))).click()\n",
    "        # let the page of search result load\n",
    "        time.sleep(4)\n",
    "        try:\n",
    "            WebDriverWait(driver, 20).until(EC.presence_of_element_located((By.CLASS_NAME,'_aatp')))\n",
    "            #time.sleep(3)\n",
    "            pinned = driver.find_elements(By.CLASS_NAME,'_aatp')\n",
    "            count = 0\n",
    "            # we will check for all pinned posts\n",
    "            for i in pinned:\n",
    "                if i.find_element(By.CLASS_NAME,'_ab6-').get_attribute('aria-label') != 'Pinned post icon':\n",
    "                    break\n",
    "                else:\n",
    "                    count+=1\n",
    "            # as soon as pinned posts are over we will open the post and start to see the date\n",
    "            driver.find_elements(By.CLASS_NAME,'_aagw')[count].click()\n",
    "        except NoSuchElementException:\n",
    "            # if there are no pinned posts then we will directly click on first post and start counting\n",
    "            first_pic = WebDriverWait(driver, 20).until(EC.presence_of_element_located((By.CLASS_NAME,'_aagw')))\n",
    "            first_pic.click()\n",
    "        count = 0\n",
    "        handle_likes = 0\n",
    "        while count < 10:\n",
    "            local_likes = ''\n",
    "            # we will check is likes can be located\n",
    "            likes_div = WebDriverWait(driver, 20).until(EC.presence_of_element_located(\n",
    "                (By.XPATH,'/html/body/div[1]/div/div/div/div[2]/div/div/div[1]/div/div[3]/div/div/div/div/div[2]/div/article/div/div[2]/div/div/div[2]/section[2]/div/div/div/a/div/span')))\n",
    "            # now we will fetch the likes in form of string and then convert it into int\n",
    "            like_str = likes_div.text\n",
    "            local_likes = int(like_str.replace(',',''))\n",
    "\n",
    "            # click the next button\n",
    "            try:\n",
    "                next_btn = driver.find_element(By.XPATH,'/html/body/div[1]/div/div/div/div[2]/div/div/div[1]/div/div[3]/div/div/div/div/div[1]/div/div/div[2]/button/div')\n",
    "                next_btn.click()\n",
    "            except NoSuchElementException:\n",
    "                try:\n",
    "                    next_btn = driver.find_element(By.XPATH,'/html/body/div[1]/div/div/div/div[2]/div/div/div[1]/div/div[3]/div/div/div/div/div[1]/div/div/div/button/div')\n",
    "                    next_btn.click()\n",
    "                except NoSuchElementException:\n",
    "                    # if there is no next btn then it myust be the last post\n",
    "                    print(\"we have covered all the posts\")\n",
    "            handle_likes = handle_likes + local_likes\n",
    "            count+=1\n",
    "        likes_list.append(handle_likes)\n",
    "        # clear the search bar\n",
    "        clear_search__bar()\n",
    "    return likes_list\n",
    "\n",
    "#execute \n",
    "if __name__ == \"__main__\":\n",
    "    # we will create a list containing the count of likes of handles\n",
    "    likes_list = count_likes()\n",
    "    print(\"----------------------------------List containg the likes of handles respecively----------------------------\")\n",
    "    print(likes_list)\n",
    "    # create a dict\n",
    "    ratio_dict = {}\n",
    "    i = 0\n",
    "    # usin for loop we will calculate the required ratio\n",
    "    for key in followers_dict.keys():\n",
    "        avg_likes = likes_list[i]/10\n",
    "        ratio = followers_dict[key]/avg_likes\n",
    "        # store in dict\n",
    "        ratio_dict[key] = round(ratio,2)\n",
    "        i+=1\n",
    "        \n",
    "    print(\"----------------------followers:likes ratio-----------------------------\")\n",
    "    for key in ratio_dict.keys():\n",
    "        print(key,ratio_dict[key])\n",
    "        \n",
    "    # now plot the bar graph\n",
    "    keys = list(ratio_dict.keys())\n",
    "    values = list(ratio_dict.values())\n",
    "    plt.bar(keys,values)\n",
    "    plt.xticks(rotation=45)\n",
    "    plt.xlabel(\"Instagram handle\")\n",
    "    plt.ylabel(\"Followers:likes ratio\")\n",
    "    plt.show()"
   ]
  },
  {
   "cell_type": "code",
   "execution_count": null,
   "id": "9c0419a8",
   "metadata": {},
   "outputs": [],
   "source": [
    "# quit the driver when the task is done\n",
    "driver.quit()"
   ]
  },
  {
   "cell_type": "code",
   "execution_count": 235,
   "id": "3a6ec9b4",
   "metadata": {},
   "outputs": [],
   "source": [
    "likes_list = []\n",
    "for name in top_five_list:\n",
    "    search_bar = driver.find_element(By.CLASS_NAME,'_aauy')\n",
    "    # send keys to search bar \n",
    "    search_bar.send_keys(name)\n",
    "    #we are looking for the first option in search list so we will find first element with class '_abm4' and click on it\n",
    "    WebDriverWait(driver, 20).until(EC.presence_of_element_located((By.CLASS_NAME,'_abm4'))).click()\n",
    "    # let the page of search result load\n",
    "    time.sleep(4)\n",
    "    try:\n",
    "        WebDriverWait(driver, 20).until(EC.presence_of_element_located((By.CLASS_NAME,'_aatp')))\n",
    "        #time.sleep(3)\n",
    "        pinned = driver.find_elements(By.CLASS_NAME,'_aatp')\n",
    "        count = 0\n",
    "        # we will check for all pinned posts\n",
    "        for i in pinned:\n",
    "            if i.find_element(By.CLASS_NAME,'_ab6-').get_attribute('aria-label') != 'Pinned post icon':\n",
    "                break\n",
    "            else:\n",
    "                count+=1\n",
    "        # as soon as pinned posts are over we will open the post and start to see the date\n",
    "        driver.find_elements(By.CLASS_NAME,'_aagw')[count].click()\n",
    "    except NoSuchElementException:\n",
    "        # if there are no pinned posts then we will directly click on first post and start counting\n",
    "        first_pic = WebDriverWait(driver, 20).until(EC.presence_of_element_located((By.CLASS_NAME,'_aagw')))\n",
    "        first_pic.click()\n",
    "    count = 0\n",
    "    handle_likes = 0\n",
    "    while count < 10:\n",
    "        local_likes = ''\n",
    "        # we will check is likes can be located\n",
    "        likes_div = WebDriverWait(driver, 20).until(EC.presence_of_element_located(\n",
    "            (By.XPATH,'/html/body/div[1]/div/div/div/div[2]/div/div/div[1]/div/div[3]/div/div/div/div/div[2]/div/article/div/div[2]/div/div/div[2]/section[2]/div/div/div/a/div/span')))\n",
    "        # now we will fetch the likes in form of string and then convert it into int\n",
    "        like_str = likes_div.text\n",
    "        local_likes = int(like_str.replace(',',''))\n",
    "        \n",
    "        # click the next button\n",
    "        try:\n",
    "            next_btn = driver.find_element(By.XPATH,'/html/body/div[1]/div/div/div/div[2]/div/div/div[1]/div/div[3]/div/div/div/div/div[1]/div/div/div[2]/button/div')\n",
    "            next_btn.click()\n",
    "        except NoSuchElementException:\n",
    "            try:\n",
    "                next_btn = driver.find_element(By.XPATH,'/html/body/div[1]/div/div/div/div[2]/div/div/div[1]/div/div[3]/div/div/div/div/div[1]/div/div/div/button/div')\n",
    "                next_btn.click()\n",
    "            except NoSuchElementException:\n",
    "                # if there is no next btn then it myust be the last post\n",
    "                print(\"we have covered all the posts\")\n",
    "        handle_likes = handle_likes + local_likes\n",
    "        count+=1\n",
    "    likes_list.append(handle_likes)\n",
    "    # clear search bar  \n",
    "    driver.back()\n",
    "    time.sleep(2)\n",
    "    #clear the search bar\n",
    "    driver.find_element(By.CLASS_NAME,'_aaw8').click()\n",
    "    #WebDriverWait(driver, 20).until(EC.presence_of_element_located((By.CLASS_NAME,'_aaw8'))).click()\n",
    "    #ckick the closs div so that search bar return to it's initial position\n",
    "    try:\n",
    "        cross_div = WebDriverWait(\n",
    "            driver, 3).until(EC.presence_of_element_located(\n",
    "                (By.XPATH, '//div[contains(@class,\"_9-lv\")]')))\n",
    "        driver.find_element(By.XPATH,'//div[contains(@class,\"_9-lv\")]').click()\n",
    "    except TimeoutException:\n",
    "        print(\"search bar is clear\")\n",
    "    finally:\n",
    "        time.sleep(2)"
   ]
  },
  {
   "cell_type": "code",
   "execution_count": 236,
   "id": "dbd073bf",
   "metadata": {},
   "outputs": [
    {
     "data": {
      "text/plain": [
       "[112825, 21021, 2495, 8292, 19294]"
      ]
     },
     "execution_count": 236,
     "metadata": {},
     "output_type": "execute_result"
    }
   ],
   "source": [
    "likes_list"
   ]
  },
  {
   "cell_type": "code",
   "execution_count": 239,
   "id": "826d023c",
   "metadata": {},
   "outputs": [
    {
     "data": {
      "text/plain": [
       "{'dilsefoodie': 1048277,\n",
       " 'foodporn': 1025413,\n",
       " 'foodtalkindia': 308770,\n",
       " 'delhi_streets_food': 40307,\n",
       " 'lucknowi.safarkhana': 26225}"
      ]
     },
     "execution_count": 239,
     "metadata": {},
     "output_type": "execute_result"
    }
   ],
   "source": [
    "followers_dict"
   ]
  },
  {
   "cell_type": "code",
   "execution_count": 260,
   "id": "579e1339",
   "metadata": {},
   "outputs": [
    {
     "data": {
      "text/plain": [
       "{'dilsefoodie': 92.91,\n",
       " 'foodporn': 487.8,\n",
       " 'foodtalkindia': 1237.56,\n",
       " 'delhi_streets_food': 48.61,\n",
       " 'lucknowi.safarkhana': 13.59}"
      ]
     },
     "execution_count": 260,
     "metadata": {},
     "output_type": "execute_result"
    }
   ],
   "source": [
    "ratio_dict = {}\n",
    "i = 0\n",
    "for key in followers_dict.keys():\n",
    "    avg_likes = likes_list[i]/10\n",
    "    ratio = followers_dict[key]/avg_likes\n",
    "    ratio_dict[key] = round(ratio,2)\n",
    "    i+=1\n",
    "ratio_dict"
   ]
  },
  {
   "cell_type": "code",
   "execution_count": null,
   "id": "b684293c",
   "metadata": {},
   "outputs": [],
   "source": []
  },
  {
   "cell_type": "code",
   "execution_count": 244,
   "id": "72cc8a3e",
   "metadata": {},
   "outputs": [
    {
     "data": {
      "image/png": "[encoded data removed]",
      "text/plain": [
       "<Figure size 432x288 with 1 Axes>"
      ]
     },
     "metadata": {
      "needs_background": "light"
     },
     "output_type": "display_data"
    }
   ],
   "source": [
    "keys = list(ratio_dict.keys())\n",
    "values = list(ratio_dict.values())\n",
    "plt.bar(keys,values)\n",
    "plt.xticks(rotation=45)\n",
    "plt.xlabel(\"Instagram handle\")\n",
    "plt.ylabel(\"Followers:likes ratio\")\n",
    "plt.show()"
   ]
  },
  {
   "cell_type": "code",
   "execution_count": null,
   "id": "8c69c460",
   "metadata": {},
   "outputs": [],
   "source": []
  },
  {
   "cell_type": "code",
   "execution_count": null,
   "id": "69c866a5",
   "metadata": {},
   "outputs": [],
   "source": []
  },
  {
   "cell_type": "code",
   "execution_count": null,
   "id": "dead1354",
   "metadata": {},
   "outputs": [],
   "source": []
  },
  {
   "cell_type": "code",
   "execution_count": null,
   "id": "5891131b",
   "metadata": {},
   "outputs": [],
   "source": []
  },
  {
   "cell_type": "code",
   "execution_count": 225,
   "id": "43aa5e2c",
   "metadata": {},
   "outputs": [
    {
     "data": {
      "text/plain": [
       "int"
      ]
     },
     "execution_count": 225,
     "metadata": {},
     "output_type": "execute_result"
    }
   ],
   "source": [
    "likes_div = WebDriverWait(driver, 20).until(EC.presence_of_element_located(\n",
    "                (By.XPATH,'/html/body/div[1]/div/div/div/div[2]/div/div/div[1]/div/div[3]/div/div/div/div/div[2]/div/article/div/div[2]/div/div/div[2]/section[2]/div/div/div/a/div/span')))\n",
    "\n",
    "#data = BeautifulSoup(likes_div.get_ttribute('outerHTML'))\n",
    "like_str = likes_div.text\n",
    "local_likes = int(like_str.replace(',',''))\n",
    "local_likes"
   ]
  },
  {
   "cell_type": "code",
   "execution_count": 149,
   "id": "8bbe3122",
   "metadata": {},
   "outputs": [],
   "source": [
    "data = BeautifulSoup(driver.page_source)"
   ]
  },
  {
   "cell_type": "code",
   "execution_count": 159,
   "id": "f4eef5f9",
   "metadata": {},
   "outputs": [
    {
     "name": "stdout",
     "output_type": "stream",
     "text": [
      "#asianfood#indochinesefood#sushi#dimsum#ramen#wok#lucknow#lucknowfood\n"
     ]
    }
   ],
   "source": [
    "l=data.find(class_='_aacl _aaco _aacu _aacx _aad7 _aade').find_all('a')\n",
    "s=''\n",
    "for i in l:\n",
    "    a=i.string\n",
    "    s=s+a\n",
    "print(s)"
   ]
  },
  {
   "cell_type": "code",
   "execution_count": 153,
   "id": "77ca958c",
   "metadata": {},
   "outputs": [
    {
     "data": {
      "text/plain": [
       "'Are you looking for a one-stop destination for Pan Asian and Indo Chinese Cuisine? Then Chango’s is the place for you🍱They provide a variety of •Dimsums•Sushi •Wok•Ramen and many other options.Also, you must try the Wok Box and Bento Box which come with an option of  customisation(veg/non-veg options).So when are you planning to fulfill your Asian Food cravings?Let us know in the comments below💬📍 Captain Manoj Pandey Circle, Vishal Khand, Gomti Nagar, Lucknow.. .......#asianfood #indochinesefood #sushi #dimsum #ramen #wok #lucknow #lucknowfood'"
      ]
     },
     "execution_count": 153,
     "metadata": {},
     "output_type": "execute_result"
    }
   ],
   "source": [
    "text_org = data.find(class_='_aacl _aaco _aacu _aacx _aad7 _aade').text\n",
    "c=text[1]\n",
    "text_org"
   ]
  },
  {
   "cell_type": "code",
   "execution_count": 94,
   "id": "70f89c75",
   "metadata": {},
   "outputs": [
    {
     "name": "stdout",
     "output_type": "stream",
     "text": [
      "<class 'str'>\n"
     ]
    }
   ],
   "source": [
    "all_hastags = ''\n",
    "if '#' in text_org:\n",
    "    text = text_org.split('#',1)\n",
    "    caption = text[0]\n",
    "    hastags = text[1].split('#')\n",
    "    # here we ate storing all hastags in a string for the next part of the question\n",
    "    all_hastags = all_hastags + text[1] + '#'\n",
    "    print(all_hastags)\n",
    "    for h in hastags:\n",
    "        caption = caption + \" \" + h.strip()\n",
    "else:\n",
    "    caption = text\n",
    "print(type(all_hastags))"
   ]
  },
  {
   "cell_type": "code",
   "execution_count": 95,
   "id": "968e188a",
   "metadata": {},
   "outputs": [
    {
     "data": {
      "text/plain": [
       "['Bejad Ki Roti With Laal Maas 😍', 'dilsefoodie #dilsecouple #food #laalmaas']"
      ]
     },
     "execution_count": 95,
     "metadata": {},
     "output_type": "execute_result"
    }
   ],
   "source": [
    "caption"
   ]
  },
  {
   "cell_type": "code",
   "execution_count": 242,
   "id": "3875079f",
   "metadata": {},
   "outputs": [
    {
     "data": {
      "text/plain": [
       "['dilsefoodie',\n",
       " 'foodporn',\n",
       " 'foodtalkindia',\n",
       " 'delhi_streets_food',\n",
       " 'lucknowi.safarkhana']"
      ]
     },
     "execution_count": 242,
     "metadata": {},
     "output_type": "execute_result"
    }
   ],
   "source": [
    "top_five_list"
   ]
  },
  {
   "cell_type": "code",
   "execution_count": 15,
   "id": "e22ecd4b",
   "metadata": {},
   "outputs": [
    {
     "data": {
      "text/plain": [
       "['Bejad Ki Roti With Laal Maas 😍', 'dilsefoodie #dilsecouple #food #laalmaas']"
      ]
     },
     "execution_count": 15,
     "metadata": {},
     "output_type": "execute_result"
    }
   ],
   "source": [
    "text = data.find(class_='_aacl _aaco _aacu _aacx _aad7 _aade').text.split('#',1)\n",
    "text"
   ]
  },
  {
   "cell_type": "code",
   "execution_count": 16,
   "id": "462f91d9",
   "metadata": {},
   "outputs": [
    {
     "data": {
      "text/plain": [
       "'Bejad Ki Roti With Laal Maas 😍'"
      ]
     },
     "execution_count": 16,
     "metadata": {},
     "output_type": "execute_result"
    }
   ],
   "source": [
    "caption = text[0]\n",
    "caption"
   ]
  },
  {
   "cell_type": "code",
   "execution_count": 20,
   "id": "8a31699c",
   "metadata": {},
   "outputs": [
    {
     "data": {
      "text/plain": [
       "str"
      ]
     },
     "execution_count": 20,
     "metadata": {},
     "output_type": "execute_result"
    }
   ],
   "source": [
    "hastags = text[1].split('#')\n",
    "hastags\n",
    "for h in hastags:\n",
    "    caption = caption + \" \" + h.strip()\n",
    "caption"
   ]
  },
  {
   "cell_type": "code",
   "execution_count": 51,
   "id": "2e944d34",
   "metadata": {},
   "outputs": [],
   "source": [
    "search_bar = driver.find_element(By.CLASS_NAME,'_aauy')\n",
    "# send keys to search bar \n",
    "search_bar.send_keys(name)\n",
    "#we are looking for the first option in search list so we will find first element with class '_abm4' and click on it\n",
    "WebDriverWait(driver, 20).until(EC.presence_of_element_located((By.CLASS_NAME,'_abm4'))).click()\n",
    "#click on first pic\n",
    "WebDriverWait(driver, 20).until(EC.presence_of_element_located((By.CLASS_NAME,'_aagw'))).click()\n",
    "print(\"clicked\")\n",
    "time.sleep(3)\n",
    "count = 0\n",
    "final_str = ''\n",
    "WebDriverWait(driver, 20).until(EC.presence_of_element_located((By.CLASS_NAME,'_aagw'))).click()\n",
    "count = 0\n",
    "final_str = ''\n",
    "while count < 10:\n",
    "    caption = ''\n",
    "    text = ''\n",
    "    hastags = ''\n",
    "    WebDriverWait(driver, 20).until(EC.presence_of_element_located((By.CLASS_NAME,'_aa06')))\n",
    "    data = BeautifulSoup(driver.page_source)\n",
    "    text = data.find(class_='_aacl _aaco _aacu _aacx _aad7 _aade').text.split('#',1)\n",
    "    if '#' in text:\n",
    "        caption = text[0]\n",
    "        hastags = text[1].split('#')\n",
    "        for h in hastags:\n",
    "            caption = caption + \" \" + h.strip()\n",
    "    else:\n",
    "        caption = text[0]\n",
    "    \n",
    "    try:\n",
    "        next_btn = driver.find_element(By.XPATH,'/html/body/div[1]/div/div/div/div[2]/div/div/div[1]/div/div[3]/div/div/div/div/div[1]/div/div/div[2]/button/div')\n",
    "        next_btn.click()\n",
    "    except NoSuchElementException:\n",
    "        try:\n",
    "            next_btn = driver.find_element(By.XPATH,'/html/body/div[1]/div/div/div/div[2]/div/div/div[1]/div/div[3]/div/div/div/div/div[1]/div/div/div/button/div')\n",
    "            next_btn.click()\n",
    "        except NoSuchElementException:\n",
    "            # if there is no next btn then it myust be the last post\n",
    "            print(\"we have covered all the posts\")\n",
    "    final_str = final_str + \" \" + caption\n",
    "    count+=1"
   ]
  },
  {
   "cell_type": "code",
   "execution_count": 127,
   "id": "92a6821b",
   "metadata": {},
   "outputs": [],
   "source": [
    "\n",
    "content = content.replace('(','')\n",
    "content = content.replace(')','')\n",
    "content = content.replace(':','')\n",
    "content = content.replace('-','')"
   ]
  },
  {
   "cell_type": "code",
   "execution_count": 128,
   "id": "f50c7fe4",
   "metadata": {},
   "outputs": [
    {
     "data": {
      "text/plain": [
       "'bejad ki roti with laal maas dilsefoodie dilsecouple food laalmaas this diwali, kuch naya ho jayenew beginnings ke liye new meetha toh hona chahiye the festive edition by kwalitywalls gulab jamun ice cream dessert is perfect to start the celebration my wife loved the real gulab jamun pieces inside this ice cream aap log bhi try karo order now on zomato or get it from any kwality wall\\'s freezer near you tyohaarwahimithaasnayi ad kwalitywalls diwalimeetha diwalidesserts dilsefoodie kwalitywallsgulabjamun diwali2022 gulabjamunicecream happydiwali and here we are 3d  3 dua\\'s birthday papa, my and sukirti dilsecouple  at tucasakitchenandbar , rajouri garden for family dinner and it was really good loved it dilsefoodie dilsecouple food birthday enjoying garma garam aloo bread pakoda dilsefoodie dilsecouple breadpakoda and thats chicken moussaka from turktarziofficial , defence colony it\\'s available on swiggy, zomato and magicpin dilsefoodie dilsecouple turkishfood turktarzi when in kolkata  kolkata roll is must try dilsefoodie dilsecouple roll kolkataroll bassssss yehi ek biryani thi jisne dil jeeta mera arsalan ki biryani at kolkata dilsefoodie dilsecouple food biryani aaj na ladi marjaani aaj mera karwa chauth hai dilsecouple dilsefoodie dilsecouple karwachauth karwachauth special love infinity dilsefoodie dilsecouple karwachauth karwa chauth special sargi so i made this atte wale aloo and sukirti made sewaiya dono ka fast hai but sukirti will eat something after pooja as she is expecting to proper fast nahi rakh sakti dilsefoodie dilsecouple karwachauth dilsebaby the diamond teraluna to celebrate therock\\'s one year anniversary since he launched teremana, we worked with gloss and theclearicecompany to make his very own special drink the diamond tereluna which features an ice diamond here are the ingredients 2 oz teremana reposado3/4 oz fresh grapefruit juice3/4 oz fresh lime juice 3/4 oz rosemaryinfused agave syrup 4 drops mole bittersgarnished with smoked maldon sea salt  theclearicecompany \"ride the wave\" by laurenhashianofficial, naztokio, and iamnataliemartinez _peike  rustys_bar_and_grill  amospro 100% chocolate dumbbells for therock\\'s birthday happy birthday to therock with this spectacular set of dumbbells made with 100% chocolate by the amazingly talented amauryguichon it took amaury 20 hours to make this chocolate masterpiece from start to finish we worked in secret with amaury and laurenhashianofficial to make this a surprise for the big man\\'s birthday, and it couldn\\'t have worked out any better here is how they were made yup, they are completely ediblehow\\'s this for a cheat meal dj what do you think of our new video is it foodporn enough for you itsonlyfood getyourmindoutofthegutter is this pork belly crackling sound the best thing you\\'ve ever heard won\\'t you take me to chunkytownau rainbow toastie, where have you been all our lives rainbowtoastie_melbourne some yummy yummy at fuumifuumi ton katsu sando & fried ebi and egg salad sando to be exact we\\'re in the kitchen of little hong kong house for some fried chicken goodness'"
      ]
     },
     "execution_count": 128,
     "metadata": {},
     "output_type": "execute_result"
    }
   ],
   "source": [
    "content"
   ]
  },
  {
   "cell_type": "code",
   "execution_count": 166,
   "id": "75603ed7",
   "metadata": {},
   "outputs": [],
   "source": [
    "list_of_hastags = all_hastags.split(\"#\")"
   ]
  },
  {
   "cell_type": "code",
   "execution_count": 169,
   "id": "4aee5e0f",
   "metadata": {},
   "outputs": [
    {
     "name": "stdout",
     "output_type": "stream",
     "text": [
      "['dilsefoodie', 'dilsecouple', 'kachori', 'jaipur', 'dilsefoodie', 'dilsecouple', 'food', 'laalmaas', 'TyohaarWahiMithaasNayi', 'Ad', 'KwalityWalls', 'DiwaliMeetha', 'DiwaliDesserts', 'dilsefoodie', 'KwalityWallsGulabJamun', 'Diwali2022', 'GulabJamunIceCream', 'HappyDiwali', 'dilsefoodie', 'dilsecouple', 'food', 'birthday', 'dilsefoodie', 'dilsecouple', 'breadpakoda', 'dilsefoodie', 'dilsecouple', 'turkishfood', 'turktarzi', 'dilsefoodie', 'dilsecouple', 'roll', 'kolkataroll', 'dilsefoodie', 'dilsecouple', 'food', 'biryani', 'dilsefoodie', 'dilsecouple', 'karwachauth', 'dilsefoodie', 'dilsecouple', 'karwachauth', 'FOODPORN', 'ItsOnlyFood', 'GetYourMindOutOfTheGutter', 'GiveawayAlert', 'coffee', 'coldbrew', 'cocktails', 'festive', 'wokecoldbrew', 'foodtalkindia', 'foodtalk', 'fti', 'food', 'foodie', 'foodies', 'foodgram', 'foodgasm', 'foodiesofindia', 'foodblogger', 'foodfeed', 'delicious', 'yummy', 'instagood', 'instafood', 'instagram', 'discover', 'NewInTown', 'starbucks', 'starbucksindia', 'starbuckscoffee', 'reservestore', 'mumbai', 'foodtalkindia', 'foodtalk', 'fti', 'food', 'foodie', 'foodies', 'foodgram', 'foodgasm', 'foodiesofindia', 'foodblogger', 'foodfeed', 'delicious', 'yummy', 'instagood', 'instafood', 'instagram', 'discover', 'party', 'host', 'vibes', 'horoscope', 'zodiacsigns', 'foodtalkindia', 'foodtalk', 'fti', 'food', 'foodie', 'foodies', 'foodgram', 'foodgasm', 'foodiesofindia', 'foodblogger', 'foodfeed', 'delicious', 'yummy', 'instagood', 'instafood', 'instagram', 'discover', 'kebabs', 'tikkas', 'delhi', 'foodtalkindia', 'foodtalk', 'fti', 'food', 'foodie', 'foodies', 'foodgram', 'foodgasm', 'foodiesofindia', 'foodblogger', 'foodfeed', 'delicious', 'yummy', 'instagood', 'instafood', 'instagram', 'discover', 'diwali', 'gifthampers', 'drinks', 'mithai', 'sweets', 'gifts', 'diwaliparty', 'orderin', 'foodtalkindia', 'foodtalk', 'fti', 'food', 'foodie', 'foodies', 'foodgram', 'foodgasm', 'foodiesofindia', 'foodblogger', 'foodfeed', 'delicious', 'yummy', 'instagood', 'instafood', 'instagram', 'discover', 'diwali', 'gifthampers', 'drinks', 'mithai', 'sweets', 'gifts', 'diwaliparty', 'orderin', 'foodtalkindia', 'foodtalk', 'fti', 'food', 'foodie', 'foodies', 'foodgram', 'foodgasm', 'foodiesofindia', 'foodblogger', 'foodfeed', 'delicious', 'yummy', 'instagood', 'instafood', 'instagram', 'discover', 'mexican', 'platters', 'indian', 'european', 'asian', 'mediterranean', 'party', 'houseparty', 'diwaliparty', 'orderin', 'foodtalkindia', 'foodtalk', 'fti', 'food', 'foodie', 'foodies', 'foodgram', 'foodgasm', 'foodiesofindia', 'foodblogger', 'foodfeed', 'delicious', 'yummy', 'instagood', 'instafood', 'instagram', 'discover', 'cheeseplatter', 'grazingplatter', 'charcuterieboards', 'party', 'houseparty', 'diwaliparty', 'orderin', 'foodtalkindia', 'foodtalk', 'fti', 'food', 'foodie', 'foodies', 'foodgram', 'foodgasm', 'foodiesofindia', 'foodblogger', 'foodfeed', 'delicious', 'yummy', 'instagood', 'instafood', 'instagram', 'discover', 'GinOClock', 'ginexplorersclub', 'GinOClock', 'bengaluru', 'gin', 'drinks', 'mythicaledition', 'foodtalkindia', 'foodtalk', 'fti', 'food', 'foodie', 'foodies', 'foodgram', 'foodgasm', 'foodiesofindia', 'foodblogger', 'foodfeed', 'delicious', 'yummy', 'instagood', 'instafood', 'instagram', 'discover', 'nightlife', 'delhi', 'restaurants', '24x7', 'foodtalkindia', 'foodtalk', 'fti', 'food', 'foodie', 'foodies', 'foodgram', 'foodgasm', 'foodiesofindia', 'foodblogger', 'foodfeed', 'delicious', 'yummy', 'instagood', 'instafood', 'instagram', 'discover', 'chap', 'streetfood', 'streetfoodindia', 'streetstyle', 'food', 'foodporn', 'foodstagram', 'foodblogger', 'yummy', 'yummyinmytummy', 'foodie', 'viral', 'reels', 'reelsinstagram', 'reelkarofeelkaro', 'omellete', 'foodlover', 'food', 'foodporn', 'foodie', 'foodstagram', 'streetfood', 'streetfoodindia', 'streetstyle', 'yummyfood', 'yummyinmytummy', 'foodblogger', 'reelkarofeelkaro', 'reelitfeelit', 'reelsinstagram', 'bhelpuri', 'chat', 'streetfood', 'street', 'streetstyle', 'viral', 'viralvideos', 'reels', 'yummyinmytummy', 'yummyfood', 'reelsinstagram', 'reelsvideo', 'chat', 'food', 'foodporn', 'streetfood', 'streetfoodindia', 'foodporn', 'foodie', 'foodblogger', 'reels', 'viral', 'viralreels', 'dominos', 'delhistreetsfood', 'bulkfood', 'pizaalovers', 'delhi', 'delhifood', 'foodindia', 'chickenkaachar', 'boi', 'bornoninstagram', 'foodporn', 'foodblogger', 'foodbloggerindia', 'streetfood', 'sambarvada', 'foodie', 'foodblogger', 'foodiesofindia', 'viral', 'viralvideos', 'food', 'streetfood', 'foodlover', 'foodlove', 'delhistreetsfood', 'guava', 'summer', 'weekend', 'icecream', 'coldstone', 'coldstonecreamery', 'gulabjamun', 'dessert', 'bewafaikargaya', 'bpraak', 'lekh', 'whitehillmusic', 'asianfood', 'indochinesefood', 'sushi', 'dimsum', 'ramen', 'wok', 'lucknow', 'lucknowfood', 'lucknow', 'lucknowcity', 'lucknowdiaries', 'lucknowphotography', 'lucknowblogger', 'samosa', 'samosachaat', 'breakfast', 'indianbreakfast', 'lucknowcity', 'oldlucknow', 'lucknow', 'lucknowcity', 'lucknowdiaries', 'lucknowblogger', 'lucknowfood', 'asianfood', 'indochinese', 'indochinesefood', 'lucknow', 'lucknowfood', 'sushi', 'dimsum', 'lafleaaffair', 'knocksenseevents', 'lafleaaffairlucknow', 'food', 'foodmeme', 'foodmemes', 'trend', 'trendingsongs', '25k', 'foodvlogger', 'foodblogger', 'lucknow', 'lucknowblogger', 'momos', 'momo', 'fun', 'funnyreels', 'foodmemes', 'memes', 'durgapuja', 'lucknow', 'navratri', 'navratri2022', 'pandal']\n"
     ]
    }
   ],
   "source": [
    "list_of_hastags=list_of_hastags[1:]\n",
    "print(list_of_hastags)"
   ]
  },
  {
   "cell_type": "code",
   "execution_count": 131,
   "id": "67a87c62",
   "metadata": {},
   "outputs": [],
   "source": [
    "import pandas as pd"
   ]
  },
  {
   "cell_type": "code",
   "execution_count": 171,
   "id": "94995755",
   "metadata": {},
   "outputs": [],
   "source": [
    "df1 = pd.Series(list_of_hastags).value_counts().sort_index().reset_index().reset_index(drop=True)\n",
    "df1.columns = ['Hastag', 'Frequency']"
   ]
  },
  {
   "cell_type": "code",
   "execution_count": 174,
   "id": "a75f0164",
   "metadata": {},
   "outputs": [],
   "source": [
    "#df1 = df1[df.Hastag!='']"
   ]
  },
  {
   "cell_type": "code",
   "execution_count": 175,
   "id": "f0aef1f7",
   "metadata": {},
   "outputs": [
    {
     "data": {
      "text/html": [
       "<div>\n",
       "<style scoped>\n",
       "    .dataframe tbody tr th:only-of-type {\n",
       "        vertical-align: middle;\n",
       "    }\n",
       "\n",
       "    .dataframe tbody tr th {\n",
       "        vertical-align: top;\n",
       "    }\n",
       "\n",
       "    .dataframe thead th {\n",
       "        text-align: right;\n",
       "    }\n",
       "</style>\n",
       "<table border=\"1\" class=\"dataframe\">\n",
       "  <thead>\n",
       "    <tr style=\"text-align: right;\">\n",
       "      <th></th>\n",
       "      <th>Hastag</th>\n",
       "      <th>Frequency</th>\n",
       "    </tr>\n",
       "  </thead>\n",
       "  <tbody>\n",
       "    <tr>\n",
       "      <th>0</th>\n",
       "      <td>24x7</td>\n",
       "      <td>1</td>\n",
       "    </tr>\n",
       "    <tr>\n",
       "      <th>1</th>\n",
       "      <td>25k</td>\n",
       "      <td>1</td>\n",
       "    </tr>\n",
       "    <tr>\n",
       "      <th>2</th>\n",
       "      <td>Ad</td>\n",
       "      <td>1</td>\n",
       "    </tr>\n",
       "    <tr>\n",
       "      <th>3</th>\n",
       "      <td>Diwali2022</td>\n",
       "      <td>1</td>\n",
       "    </tr>\n",
       "    <tr>\n",
       "      <th>4</th>\n",
       "      <td>DiwaliDesserts</td>\n",
       "      <td>1</td>\n",
       "    </tr>\n",
       "    <tr>\n",
       "      <th>...</th>\n",
       "      <td>...</td>\n",
       "      <td>...</td>\n",
       "    </tr>\n",
       "    <tr>\n",
       "      <th>164</th>\n",
       "      <td>wokecoldbrew</td>\n",
       "      <td>1</td>\n",
       "    </tr>\n",
       "    <tr>\n",
       "      <th>165</th>\n",
       "      <td>yummy</td>\n",
       "      <td>11</td>\n",
       "    </tr>\n",
       "    <tr>\n",
       "      <th>166</th>\n",
       "      <td>yummyfood</td>\n",
       "      <td>2</td>\n",
       "    </tr>\n",
       "    <tr>\n",
       "      <th>167</th>\n",
       "      <td>yummyinmytummy</td>\n",
       "      <td>3</td>\n",
       "    </tr>\n",
       "    <tr>\n",
       "      <th>168</th>\n",
       "      <td>zodiacsigns</td>\n",
       "      <td>1</td>\n",
       "    </tr>\n",
       "  </tbody>\n",
       "</table>\n",
       "<p>169 rows × 2 columns</p>\n",
       "</div>"
      ],
      "text/plain": [
       "             Hastag  Frequency\n",
       "0              24x7          1\n",
       "1               25k          1\n",
       "2                Ad          1\n",
       "3        Diwali2022          1\n",
       "4    DiwaliDesserts          1\n",
       "..              ...        ...\n",
       "164    wokecoldbrew          1\n",
       "165           yummy         11\n",
       "166       yummyfood          2\n",
       "167  yummyinmytummy          3\n",
       "168     zodiacsigns          1\n",
       "\n",
       "[169 rows x 2 columns]"
      ]
     },
     "execution_count": 175,
     "metadata": {},
     "output_type": "execute_result"
    }
   ],
   "source": [
    "df1"
   ]
  },
  {
   "cell_type": "code",
   "execution_count": 191,
   "id": "fe6c47fd",
   "metadata": {},
   "outputs": [
    {
     "data": {
      "text/html": [
       "<div>\n",
       "<style scoped>\n",
       "    .dataframe tbody tr th:only-of-type {\n",
       "        vertical-align: middle;\n",
       "    }\n",
       "\n",
       "    .dataframe tbody tr th {\n",
       "        vertical-align: top;\n",
       "    }\n",
       "\n",
       "    .dataframe thead th {\n",
       "        text-align: right;\n",
       "    }\n",
       "</style>\n",
       "<table border=\"1\" class=\"dataframe\">\n",
       "  <thead>\n",
       "    <tr style=\"text-align: right;\">\n",
       "      <th></th>\n",
       "      <th>Hastag</th>\n",
       "      <th>Frequency</th>\n",
       "    </tr>\n",
       "  </thead>\n",
       "  <tbody>\n",
       "    <tr>\n",
       "      <th>0</th>\n",
       "      <td>food</td>\n",
       "      <td>18</td>\n",
       "    </tr>\n",
       "    <tr>\n",
       "      <th>1</th>\n",
       "      <td>foodblogger</td>\n",
       "      <td>16</td>\n",
       "    </tr>\n",
       "    <tr>\n",
       "      <th>2</th>\n",
       "      <td>foodie</td>\n",
       "      <td>14</td>\n",
       "    </tr>\n",
       "    <tr>\n",
       "      <th>3</th>\n",
       "      <td>foodiesofindia</td>\n",
       "      <td>11</td>\n",
       "    </tr>\n",
       "    <tr>\n",
       "      <th>4</th>\n",
       "      <td>yummy</td>\n",
       "      <td>11</td>\n",
       "    </tr>\n",
       "  </tbody>\n",
       "</table>\n",
       "</div>"
      ],
      "text/plain": [
       "           Hastag  Frequency\n",
       "0            food         18\n",
       "1     foodblogger         16\n",
       "2          foodie         14\n",
       "3  foodiesofindia         11\n",
       "4           yummy         11"
      ]
     },
     "execution_count": 191,
     "metadata": {},
     "output_type": "execute_result"
    }
   ],
   "source": [
    "df2 = df1.sort_values(by='Frequency',ascending=False)[:5].reset_index(drop=True)\n",
    "df2"
   ]
  },
  {
   "cell_type": "code",
   "execution_count": 201,
   "id": "6bd7be89",
   "metadata": {},
   "outputs": [
    {
     "name": "stdout",
     "output_type": "stream",
     "text": [
      "Hastag       food\n",
      "Frequency      18\n",
      "Name: 0, dtype: object\n",
      "Hastag       foodblogger\n",
      "Frequency             16\n",
      "Name: 1, dtype: object\n",
      "Hastag       foodie\n",
      "Frequency        14\n",
      "Name: 2, dtype: object\n",
      "Hastag       foodiesofindia\n",
      "Frequency                11\n",
      "Name: 3, dtype: object\n",
      "Hastag       yummy\n",
      "Frequency       11\n",
      "Name: 4, dtype: object\n"
     ]
    }
   ],
   "source": [
    "for i in range(5):\n",
    "    #print(df.loc[(i,1)])\n",
    "    print(df2.loc[(i)])"
   ]
  },
  {
   "cell_type": "code",
   "execution_count": 148,
   "id": "716a367f",
   "metadata": {},
   "outputs": [],
   "source": [
    "df.to_csv(r'C:/Users/digvijaysingh.singh/Desktop/Coding Ninjas/frequency.csv', index=False)"
   ]
  },
  {
   "cell_type": "code",
   "execution_count": 206,
   "id": "cede42f3",
   "metadata": {},
   "outputs": [
    {
     "name": "stdout",
     "output_type": "stream",
     "text": [
      "food 18\n",
      "foodblogger 16\n",
      "foodie 14\n",
      "foodiesofindia 11\n",
      "yummy 11\n"
     ]
    }
   ],
   "source": [
    "hastags=[]\n",
    "frequencies=[]\n",
    "for i in df2.values:\n",
    "    print(i[0],i[1])\n",
    "    hastags.append(i[0])\n",
    "    frequencies.append(i[1])"
   ]
  },
  {
   "cell_type": "code",
   "execution_count": 207,
   "id": "fc1d3d2f",
   "metadata": {},
   "outputs": [
    {
     "data": {
      "image/png": "[encoded data removed]",
      "text/plain": [
       "<Figure size 432x288 with 1 Axes>"
      ]
     },
     "metadata": {},
     "output_type": "display_data"
    }
   ],
   "source": [
    "plt.pie(frequencies,labels=hastags)\n",
    "plt.show()"
   ]
  },
  {
   "cell_type": "code",
   "execution_count": 214,
   "id": "0d42f7b7",
   "metadata": {},
   "outputs": [
    {
     "data": {
      "text/plain": [
       "{'dilsefoodie': 1048277,\n",
       " 'foodporn': 1025413,\n",
       " 'foodtalkindia': 308770,\n",
       " 'delhi_streets_food': 40307,\n",
       " 'lucknowi.safarkhana': 26225}"
      ]
     },
     "execution_count": 214,
     "metadata": {},
     "output_type": "execute_result"
    }
   ],
   "source": [
    "followers_dict"
   ]
  },
  {
   "cell_type": "code",
   "execution_count": null,
   "id": "4f6e1c8d",
   "metadata": {},
   "outputs": [],
   "source": []
  }
 ],
 "metadata": {
  "kernelspec": {
   "display_name": "Python 3",
   "language": "python",
   "name": "python3"
  },
  "language_info": {
   "codemirror_mode": {
    "name": "ipython",
    "version": 3
   },
   "file_extension": ".py",
   "mimetype": "text/x-python",
   "name": "python",
   "nbconvert_exporter": "python",
   "pygments_lexer": "ipython3",
   "version": "3.8.8"
  }
 },
 "nbformat": 4,
 "nbformat_minor": 5
}
